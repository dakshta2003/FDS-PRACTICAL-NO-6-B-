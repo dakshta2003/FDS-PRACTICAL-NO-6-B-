{
  "nbformat": 4,
  "nbformat_minor": 0,
  "metadata": {
    "colab": {
      "name": "Untitled2.ipynb",
      "provenance": []
    },
    "kernelspec": {
      "name": "python3",
      "display_name": "Python 3"
    },
    "language_info": {
      "name": "python"
    }
  },
  "cells": [
    {
      "cell_type": "code",
      "metadata": {
        "colab": {
          "base_uri": "https://localhost:8080/"
        },
        "id": "phKFwm5Qpwem",
        "outputId": "1ca9a86e-5bd4-4333-c907-190e4f53288d"
      },
      "source": [
        "def shellsort(arr,n):\n",
        "  d=n//2\n",
        "  while d>0:\n",
        "   for i in range(d,n):\n",
        "      temp=arr[i]\n",
        "      j=i\n",
        "      while(j>=d and arr[j-d]>temp):\n",
        "        arr[j]=arr[j-d]\n",
        "        j-=d\n",
        "      arr[j]=temp\n",
        " 4 d=d//2\n",
        "print(\"\\n pogram for shell sort\")\n",
        "print(\"\\nHow many elements are there in array?\")\n",
        "n=int(input())\n",
        "array=[]\n",
        "i=0\n",
        "for i in range(n):\n",
        "    print(\"\\n enter element in array\")\n",
        "    item=int(input())\n",
        "    array.append(item)\n",
        "print(\"original array is\\n\")\n",
        "print(array)\n",
        "shellsort(array,n)\n",
        "print(\"\\n sorted array is\")\n",
        "print(array)"
      ],
      "execution_count": null,
      "outputs": [
        {
          "output_type": "stream",
          "name": "stdout",
          "text": [
            "\n",
            " pogram for shell sort\n",
            "\n",
            "How many elements are there in array?\n",
            "2\n",
            "\n",
            " enter element in array\n",
            "4\n",
            "\n",
            " enter element in array\n",
            "3\n",
            "original array is\n",
            "\n",
            "[4, 3]\n"
          ]
        }
      ]
    }
  ]
}